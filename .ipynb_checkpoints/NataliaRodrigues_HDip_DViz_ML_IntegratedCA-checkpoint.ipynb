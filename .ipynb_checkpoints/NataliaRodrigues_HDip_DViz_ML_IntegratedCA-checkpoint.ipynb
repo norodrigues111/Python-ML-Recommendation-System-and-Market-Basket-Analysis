{
 "cells": [
  {
   "cell_type": "markdown",
   "id": "a1933661",
   "metadata": {},
   "source": [
    "## Module Title:\t Data Visualization Techniques  & Machine Learning for Business \n",
    "### Assessment Title: Integrated CA\n",
    "### Lecturer Name:\t David McQuaid  & PhD Muhammad Iqbal\n",
    "### Student Full Name & Student ID:\tNatalia de Oliveira Rodrigues 2023112"
   ]
  },
  {
   "cell_type": "markdown",
   "id": "89c00f98",
   "metadata": {},
   "source": [
    "### GitHub Repository: \n",
    "https://github.com/norodrigues111/Recommendation-System-and-Market-Basket-Analysis.git"
   ]
  },
  {
   "cell_type": "markdown",
   "id": "9eac7187",
   "metadata": {},
   "source": [
    "### Dataset Source:\n",
    "https://www.kaggle.com/datasets/rashikrahmanpritom/groceries-dataset-for-market-basket-analysismba"
   ]
  },
  {
   "cell_type": "markdown",
   "id": "4956a338",
   "metadata": {},
   "source": [
    "This academic project aims to delivery a critical analysis of the knowledge produced, in the course: Higher Diploma in Science in Data Analytics for Business at CCT College."
   ]
  },
  {
   "cell_type": "code",
   "execution_count": 1,
   "id": "fbffbdc1",
   "metadata": {},
   "outputs": [],
   "source": [
    "# Importing required libraries.\n",
    "import pandas as pd\n",
    "import seaborn as sns\n",
    "import numpy as np\n",
    "from numpy import asarray\n",
    "import statistics as stats\n",
    "import matplotlib.pyplot as plt\n",
    "import plotly.express as px\n",
    "%matplotlib inline\n",
    "sns.set(color_codes=True)\n",
    "\n",
    "import warnings\n",
    "warnings.filterwarnings('ignore')"
   ]
  },
  {
   "cell_type": "code",
   "execution_count": 2,
   "id": "5be72fc2",
   "metadata": {},
   "outputs": [],
   "source": [
    "df = pd.read_csv('Groceries data.csv')"
   ]
  },
  {
   "cell_type": "code",
   "execution_count": 4,
   "id": "d4da5d65",
   "metadata": {},
   "outputs": [
    {
     "data": {
      "text/html": [
       "<div>\n",
       "<style scoped>\n",
       "    .dataframe tbody tr th:only-of-type {\n",
       "        vertical-align: middle;\n",
       "    }\n",
       "\n",
       "    .dataframe tbody tr th {\n",
       "        vertical-align: top;\n",
       "    }\n",
       "\n",
       "    .dataframe thead th {\n",
       "        text-align: right;\n",
       "    }\n",
       "</style>\n",
       "<table border=\"1\" class=\"dataframe\">\n",
       "  <thead>\n",
       "    <tr style=\"text-align: right;\">\n",
       "      <th></th>\n",
       "      <th>Member_number</th>\n",
       "      <th>Date</th>\n",
       "      <th>itemDescription</th>\n",
       "      <th>year</th>\n",
       "      <th>month</th>\n",
       "      <th>day</th>\n",
       "      <th>day_of_week</th>\n",
       "    </tr>\n",
       "  </thead>\n",
       "  <tbody>\n",
       "    <tr>\n",
       "      <th>0</th>\n",
       "      <td>1808</td>\n",
       "      <td>2015-07-21</td>\n",
       "      <td>tropical fruit</td>\n",
       "      <td>2015</td>\n",
       "      <td>7</td>\n",
       "      <td>21</td>\n",
       "      <td>1</td>\n",
       "    </tr>\n",
       "    <tr>\n",
       "      <th>1</th>\n",
       "      <td>2552</td>\n",
       "      <td>2015-05-01</td>\n",
       "      <td>whole milk</td>\n",
       "      <td>2015</td>\n",
       "      <td>5</td>\n",
       "      <td>1</td>\n",
       "      <td>4</td>\n",
       "    </tr>\n",
       "    <tr>\n",
       "      <th>2</th>\n",
       "      <td>2300</td>\n",
       "      <td>2015-09-19</td>\n",
       "      <td>pip fruit</td>\n",
       "      <td>2015</td>\n",
       "      <td>9</td>\n",
       "      <td>19</td>\n",
       "      <td>5</td>\n",
       "    </tr>\n",
       "    <tr>\n",
       "      <th>3</th>\n",
       "      <td>1187</td>\n",
       "      <td>2015-12-12</td>\n",
       "      <td>other vegetables</td>\n",
       "      <td>2015</td>\n",
       "      <td>12</td>\n",
       "      <td>12</td>\n",
       "      <td>5</td>\n",
       "    </tr>\n",
       "    <tr>\n",
       "      <th>4</th>\n",
       "      <td>3037</td>\n",
       "      <td>2015-01-02</td>\n",
       "      <td>whole milk</td>\n",
       "      <td>2015</td>\n",
       "      <td>1</td>\n",
       "      <td>2</td>\n",
       "      <td>4</td>\n",
       "    </tr>\n",
       "  </tbody>\n",
       "</table>\n",
       "</div>"
      ],
      "text/plain": [
       "   Member_number        Date   itemDescription  year  month  day  day_of_week\n",
       "0           1808  2015-07-21    tropical fruit  2015      7   21            1\n",
       "1           2552  2015-05-01        whole milk  2015      5    1            4\n",
       "2           2300  2015-09-19         pip fruit  2015      9   19            5\n",
       "3           1187  2015-12-12  other vegetables  2015     12   12            5\n",
       "4           3037  2015-01-02        whole milk  2015      1    2            4"
      ]
     },
     "execution_count": 4,
     "metadata": {},
     "output_type": "execute_result"
    }
   ],
   "source": [
    "df.head()"
   ]
  },
  {
   "cell_type": "markdown",
   "id": "859d8ed7",
   "metadata": {},
   "source": [
    "## Continuous Assessment \n",
    "\n",
    "### 1.1 Discuss and explain the purpose of a recommendation system for online retail business in machine learning. \n",
    "\n",
    "According to (Wikipedia Contributors, 2019), online retail, also well known as eCommerce, allows customers to buy goods or services using web-based technology. Electronic Commerce permit businesses all over the world, the opportunity to collect customers' data. Technology makes possible to build customers’ profiles based on demographic data, purchase history, preferences, and active data such as likes, views, clicks, and time spent. \n",
    "\n",
    "AI has helped businesses to build powerful analytics tools to improve customer satisfaction and drive revenue.  Recommendation Systems enable businesses to learn about their customers, and so provide more meaningful content, increasing customer satisfaction, and drive business revenue. \n",
    "\n",
    "Industry leaders in online retail are using recommendation systems. Amazon’s recommendations are responsible for 35% of revenue, Netflix’s recommendations are responsible for 75% of the movies seen on the platform, and 60% of the videos watched on YouTube were recommended to their customers.\n",
    "\n",
    "Recommendation engines enable customers to find goods or services using different algorithms. They are: Contant-based filtering, based on item features and user profile data; Collaborative-based filtering, based on the similarity with other users (user-to-user or item-to-item); and Hybrid systems that combine Contant-based filtering, and Collaborative-based filtering.\n"
   ]
  },
  {
   "cell_type": "markdown",
   "id": "747744a0",
   "metadata": {},
   "source": [
    "### 1.2)\tBriefly compare Content and Collaborative filtering using any dataset of your choice. Train and test machine learning models for the user-user or item-item collaborative filtering. "
   ]
  },
  {
   "cell_type": "code",
   "execution_count": null,
   "id": "cba54204",
   "metadata": {},
   "outputs": [],
   "source": []
  },
  {
   "cell_type": "markdown",
   "id": "5df94dac",
   "metadata": {},
   "source": [
    "### 1.3)\tJustify your recommendations for the considered scenario by providing a conceptual insight. "
   ]
  },
  {
   "cell_type": "code",
   "execution_count": null,
   "id": "97dfa134",
   "metadata": {},
   "outputs": [],
   "source": []
  },
  {
   "cell_type": "markdown",
   "id": "4bc0e5c3",
   "metadata": {},
   "source": [
    "### 2.1) Perform Market Basket Analysis on the chosen dataset by using Apriori and FP growth algorithms."
   ]
  },
  {
   "cell_type": "code",
   "execution_count": null,
   "id": "d16aaa27",
   "metadata": {},
   "outputs": [],
   "source": []
  },
  {
   "cell_type": "markdown",
   "id": "6fa41627",
   "metadata": {},
   "source": [
    "### 2.2) Can you express the major divergence between these models? Compare and contrast the machine learning results obtained based on both algorithms. "
   ]
  },
  {
   "cell_type": "code",
   "execution_count": null,
   "id": "6b76e524",
   "metadata": {},
   "outputs": [],
   "source": []
  },
  {
   "cell_type": "markdown",
   "id": "1b81e4a0",
   "metadata": {},
   "source": [
    "### 3.1) Create an interactive Dashboard aimed at older adults (65+) with specific features to summarise the most important aspects of the data and identify through your visualisation why this dataset is suitable for Machine Learning models in an online retail business. "
   ]
  },
  {
   "cell_type": "code",
   "execution_count": null,
   "id": "579412d1",
   "metadata": {},
   "outputs": [],
   "source": []
  },
  {
   "cell_type": "markdown",
   "id": "27df466d",
   "metadata": {},
   "source": [
    "### 3.2) Explain how your dashboard is designed with this demographic in mind."
   ]
  },
  {
   "cell_type": "markdown",
   "id": "45e6be49",
   "metadata": {},
   "source": []
  }
 ],
 "metadata": {
  "kernelspec": {
   "display_name": "Python 3 (ipykernel)",
   "language": "python",
   "name": "python3"
  },
  "language_info": {
   "codemirror_mode": {
    "name": "ipython",
    "version": 3
   },
   "file_extension": ".py",
   "mimetype": "text/x-python",
   "name": "python",
   "nbconvert_exporter": "python",
   "pygments_lexer": "ipython3",
   "version": "3.11.5"
  }
 },
 "nbformat": 4,
 "nbformat_minor": 5
}
