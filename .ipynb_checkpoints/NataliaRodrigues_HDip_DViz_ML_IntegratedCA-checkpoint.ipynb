{
 "cells": [
  {
   "cell_type": "markdown",
   "id": "0767cc7f",
   "metadata": {},
   "source": [
    "## Module Title:\t Data Visualization Techniques  & Machine Learning for Business \n",
    "### Assessment Title: Integrated CA\n",
    "### Lecturer Name:\t David McQuaid  & PhD Muhammad Iqbal\n",
    "### Student Full Name & Student ID:\tNatalia de Oliveira Rodrigues 2023112"
   ]
  },
  {
   "cell_type": "markdown",
   "id": "268b53d8",
   "metadata": {},
   "source": [
    "### GitHub Repository: \n",
    "https://github.com/norodrigues111/Recommendation-System-and-Market-Basket-Analysis.git"
   ]
  },
  {
   "cell_type": "markdown",
   "id": "b4810bd4",
   "metadata": {},
   "source": [
    "### Dataset Source:\n",
    "https://www.kaggle.com/datasets/rashikrahmanpritom/groceries-dataset-for-market-basket-analysismba"
   ]
  },
  {
   "cell_type": "markdown",
   "id": "abcca90e",
   "metadata": {},
   "source": [
    "This academic project aims to delivery a critical analysis of the knowledge produced, in the course: Higher Diploma in Science in Data Analytics for Business at CCT College."
   ]
  },
  {
   "cell_type": "code",
   "execution_count": 5,
   "id": "a7c14a94",
   "metadata": {},
   "outputs": [],
   "source": [
    "# Import required libraries\n",
    "import pandas as pd\n",
    "import seaborn as sns\n",
    "import numpy as np\n",
    "from numpy import asarray\n",
    "import statistics as stats\n",
    "import matplotlib.pyplot as plt\n",
    "%matplotlib inline\n",
    "sns.set(color_codes=True)\n",
    "\n",
    "import plotly.express as px\n",
    "import ipywidgets as widgets\n",
    "from ipywidgets import interact\n",
    "\n",
    "import warnings\n",
    "warnings.filterwarnings('ignore')"
   ]
  },
  {
   "cell_type": "code",
   "execution_count": 6,
   "id": "8335bf42",
   "metadata": {},
   "outputs": [],
   "source": [
    "df = pd.read_csv('Groceries data.csv')"
   ]
  },
  {
   "cell_type": "markdown",
   "id": "2cf9e97e",
   "metadata": {},
   "source": [
    "# Exploratory Data Analysis (EDA)"
   ]
  },
  {
   "cell_type": "code",
   "execution_count": 7,
   "id": "7ccb8bbe",
   "metadata": {},
   "outputs": [
    {
     "name": "stdout",
     "output_type": "stream",
     "text": [
      "Observations: 38765 rows \n",
      "Attributes: 7 columns\n",
      "----------------------------------------------------------------------------------------------------\n"
     ]
    },
    {
     "data": {
      "text/html": [
       "<div>\n",
       "<style scoped>\n",
       "    .dataframe tbody tr th:only-of-type {\n",
       "        vertical-align: middle;\n",
       "    }\n",
       "\n",
       "    .dataframe tbody tr th {\n",
       "        vertical-align: top;\n",
       "    }\n",
       "\n",
       "    .dataframe thead th {\n",
       "        text-align: right;\n",
       "    }\n",
       "</style>\n",
       "<table border=\"1\" class=\"dataframe\">\n",
       "  <thead>\n",
       "    <tr style=\"text-align: right;\">\n",
       "      <th></th>\n",
       "      <th>Member_number</th>\n",
       "      <th>Date</th>\n",
       "      <th>itemDescription</th>\n",
       "      <th>year</th>\n",
       "      <th>month</th>\n",
       "      <th>day</th>\n",
       "      <th>day_of_week</th>\n",
       "    </tr>\n",
       "  </thead>\n",
       "  <tbody>\n",
       "    <tr>\n",
       "      <th>0</th>\n",
       "      <td>1808</td>\n",
       "      <td>2015-07-21</td>\n",
       "      <td>tropical fruit</td>\n",
       "      <td>2015</td>\n",
       "      <td>7</td>\n",
       "      <td>21</td>\n",
       "      <td>1</td>\n",
       "    </tr>\n",
       "    <tr>\n",
       "      <th>1</th>\n",
       "      <td>2552</td>\n",
       "      <td>2015-05-01</td>\n",
       "      <td>whole milk</td>\n",
       "      <td>2015</td>\n",
       "      <td>5</td>\n",
       "      <td>1</td>\n",
       "      <td>4</td>\n",
       "    </tr>\n",
       "    <tr>\n",
       "      <th>2</th>\n",
       "      <td>2300</td>\n",
       "      <td>2015-09-19</td>\n",
       "      <td>pip fruit</td>\n",
       "      <td>2015</td>\n",
       "      <td>9</td>\n",
       "      <td>19</td>\n",
       "      <td>5</td>\n",
       "    </tr>\n",
       "    <tr>\n",
       "      <th>3</th>\n",
       "      <td>1187</td>\n",
       "      <td>2015-12-12</td>\n",
       "      <td>other vegetables</td>\n",
       "      <td>2015</td>\n",
       "      <td>12</td>\n",
       "      <td>12</td>\n",
       "      <td>5</td>\n",
       "    </tr>\n",
       "    <tr>\n",
       "      <th>4</th>\n",
       "      <td>3037</td>\n",
       "      <td>2015-01-02</td>\n",
       "      <td>whole milk</td>\n",
       "      <td>2015</td>\n",
       "      <td>1</td>\n",
       "      <td>2</td>\n",
       "      <td>4</td>\n",
       "    </tr>\n",
       "  </tbody>\n",
       "</table>\n",
       "</div>"
      ],
      "text/plain": [
       "   Member_number        Date   itemDescription  year  month  day  day_of_week\n",
       "0           1808  2015-07-21    tropical fruit  2015      7   21            1\n",
       "1           2552  2015-05-01        whole milk  2015      5    1            4\n",
       "2           2300  2015-09-19         pip fruit  2015      9   19            5\n",
       "3           1187  2015-12-12  other vegetables  2015     12   12            5\n",
       "4           3037  2015-01-02        whole milk  2015      1    2            4"
      ]
     },
     "metadata": {},
     "output_type": "display_data"
    },
    {
     "name": "stdout",
     "output_type": "stream",
     "text": [
      "----------------------------------------------------------------------------------------------------\n"
     ]
    },
    {
     "data": {
      "text/html": [
       "<div>\n",
       "<style scoped>\n",
       "    .dataframe tbody tr th:only-of-type {\n",
       "        vertical-align: middle;\n",
       "    }\n",
       "\n",
       "    .dataframe tbody tr th {\n",
       "        vertical-align: top;\n",
       "    }\n",
       "\n",
       "    .dataframe thead th {\n",
       "        text-align: right;\n",
       "    }\n",
       "</style>\n",
       "<table border=\"1\" class=\"dataframe\">\n",
       "  <thead>\n",
       "    <tr style=\"text-align: right;\">\n",
       "      <th></th>\n",
       "      <th>Member_number</th>\n",
       "      <th>year</th>\n",
       "      <th>month</th>\n",
       "      <th>day</th>\n",
       "      <th>day_of_week</th>\n",
       "    </tr>\n",
       "  </thead>\n",
       "  <tbody>\n",
       "    <tr>\n",
       "      <th>count</th>\n",
       "      <td>38765.000000</td>\n",
       "      <td>38765.000000</td>\n",
       "      <td>38765.000000</td>\n",
       "      <td>38765.000000</td>\n",
       "      <td>38765.000000</td>\n",
       "    </tr>\n",
       "    <tr>\n",
       "      <th>mean</th>\n",
       "      <td>3003.641868</td>\n",
       "      <td>2014.528518</td>\n",
       "      <td>6.477570</td>\n",
       "      <td>15.753231</td>\n",
       "      <td>3.014498</td>\n",
       "    </tr>\n",
       "    <tr>\n",
       "      <th>std</th>\n",
       "      <td>1153.611031</td>\n",
       "      <td>0.499193</td>\n",
       "      <td>3.431561</td>\n",
       "      <td>8.801391</td>\n",
       "      <td>1.987669</td>\n",
       "    </tr>\n",
       "    <tr>\n",
       "      <th>min</th>\n",
       "      <td>1000.000000</td>\n",
       "      <td>2014.000000</td>\n",
       "      <td>1.000000</td>\n",
       "      <td>1.000000</td>\n",
       "      <td>0.000000</td>\n",
       "    </tr>\n",
       "    <tr>\n",
       "      <th>25%</th>\n",
       "      <td>2002.000000</td>\n",
       "      <td>2014.000000</td>\n",
       "      <td>4.000000</td>\n",
       "      <td>8.000000</td>\n",
       "      <td>1.000000</td>\n",
       "    </tr>\n",
       "    <tr>\n",
       "      <th>50%</th>\n",
       "      <td>3005.000000</td>\n",
       "      <td>2015.000000</td>\n",
       "      <td>6.000000</td>\n",
       "      <td>16.000000</td>\n",
       "      <td>3.000000</td>\n",
       "    </tr>\n",
       "    <tr>\n",
       "      <th>75%</th>\n",
       "      <td>4007.000000</td>\n",
       "      <td>2015.000000</td>\n",
       "      <td>9.000000</td>\n",
       "      <td>23.000000</td>\n",
       "      <td>5.000000</td>\n",
       "    </tr>\n",
       "    <tr>\n",
       "      <th>max</th>\n",
       "      <td>5000.000000</td>\n",
       "      <td>2015.000000</td>\n",
       "      <td>12.000000</td>\n",
       "      <td>31.000000</td>\n",
       "      <td>6.000000</td>\n",
       "    </tr>\n",
       "  </tbody>\n",
       "</table>\n",
       "</div>"
      ],
      "text/plain": [
       "       Member_number          year         month           day   day_of_week\n",
       "count   38765.000000  38765.000000  38765.000000  38765.000000  38765.000000\n",
       "mean     3003.641868   2014.528518      6.477570     15.753231      3.014498\n",
       "std      1153.611031      0.499193      3.431561      8.801391      1.987669\n",
       "min      1000.000000   2014.000000      1.000000      1.000000      0.000000\n",
       "25%      2002.000000   2014.000000      4.000000      8.000000      1.000000\n",
       "50%      3005.000000   2015.000000      6.000000     16.000000      3.000000\n",
       "75%      4007.000000   2015.000000      9.000000     23.000000      5.000000\n",
       "max      5000.000000   2015.000000     12.000000     31.000000      6.000000"
      ]
     },
     "metadata": {},
     "output_type": "display_data"
    },
    {
     "name": "stdout",
     "output_type": "stream",
     "text": [
      "----------------------------------------------------------------------------------------------------\n"
     ]
    },
    {
     "data": {
      "text/plain": [
       "'Missing values: 0'"
      ]
     },
     "metadata": {},
     "output_type": "display_data"
    },
    {
     "name": "stdout",
     "output_type": "stream",
     "text": [
      "----------------------------------------------------------------------------------------------------\n",
      "<class 'pandas.core.frame.DataFrame'>\n",
      "RangeIndex: 38765 entries, 0 to 38764\n",
      "Data columns (total 7 columns):\n",
      " #   Column           Non-Null Count  Dtype \n",
      "---  ------           --------------  ----- \n",
      " 0   Member_number    38765 non-null  int64 \n",
      " 1   Date             38765 non-null  object\n",
      " 2   itemDescription  38765 non-null  object\n",
      " 3   year             38765 non-null  int64 \n",
      " 4   month            38765 non-null  int64 \n",
      " 5   day              38765 non-null  int64 \n",
      " 6   day_of_week      38765 non-null  int64 \n",
      "dtypes: int64(5), object(2)\n",
      "memory usage: 2.1+ MB\n"
     ]
    },
    {
     "data": {
      "text/plain": [
       "None"
      ]
     },
     "metadata": {},
     "output_type": "display_data"
    }
   ],
   "source": [
    "def glimpse(df):\n",
    "    print(f'Observations: {df.shape[0]} rows \\nAttributes: {df.shape[1]} columns')\n",
    "    print(\"-\" * 100)\n",
    "    display(df.head())\n",
    "    print(\"-\" * 100)\n",
    "    display(df.describe())\n",
    "    print(\"-\" * 100)\n",
    "    display(f'Missing values: {df.isnull().sum().sum()}')\n",
    "    print(\"-\" * 100)\n",
    "    display(df.info())\n",
    "    \n",
    "df = df\n",
    "glimpse(df)"
   ]
  },
  {
   "cell_type": "code",
   "execution_count": 8,
   "id": "267e58fc",
   "metadata": {},
   "outputs": [],
   "source": [
    "df['Date'] = pd.to_datetime(df['Date'])"
   ]
  },
  {
   "cell_type": "code",
   "execution_count": 10,
   "id": "87f2ffdc",
   "metadata": {},
   "outputs": [
    {
     "data": {
      "application/vnd.jupyter.widget-view+json": {
       "model_id": "28d79c51ce534fe383a1c6e028dc854f",
       "version_major": 2,
       "version_minor": 0
      },
      "text/plain": [
       "interactive(children=(Dropdown(description='Granularity:', options=('day', 'day_of_week', 'month', 'year'), va…"
      ]
     },
     "metadata": {},
     "output_type": "display_data"
    }
   ],
   "source": [
    "# Widget for selecting the time granularity\n",
    "granularity_widget = widgets.Dropdown(\n",
    "    options=['day', 'day_of_week', 'month', 'year'],\n",
    "    value='day',\n",
    "    description='Granularity:'\n",
    ")\n",
    "\n",
    "def plot_items_sold(df, granularity):\n",
    "    # Create a new DataFrame with aggregated values based on the selected granularity\n",
    "    if granularity == 'day':\n",
    "        df_aggregated = df.groupby('Date').size().reset_index(name='Count')\n",
    "    elif granularity == 'day_of_week':\n",
    "        df_aggregated = df.groupby('day_of_week').size().reset_index(name='Count')\n",
    "    elif granularity == 'month':\n",
    "        df_aggregated = df.groupby('month').size().reset_index(name='Count')\n",
    "    elif granularity == 'year':\n",
    "        df_aggregated = df.groupby('year').size().reset_index(name='Count')\n",
    "\n",
    "    # Plot using Plotly for interactive plots\n",
    "    x_column = 'Date' if granularity == 'day' else granularity  # Correct x-column based on granularity\n",
    "\n",
    "    if granularity in ['day', 'day_of_week', 'month']:\n",
    "        fig = px.line(df_aggregated, x=x_column, y='Count', title=f'Items Sold - {granularity.capitalize()}ly')\n",
    "    elif granularity in ['year']:\n",
    "        fig = px.bar(df_aggregated, x=x_column, y='Count', title=f'Items Sold - {granularity.capitalize()}ly')\n",
    "\n",
    "    fig.update_xaxes(title_text='Time')\n",
    "    fig.update_yaxes(title_text='Number of Items Sold')\n",
    "\n",
    "    # Display interactive plot\n",
    "    fig.show()\n",
    "\n",
    "# Interactive plot with widgets\n",
    "@interact(granularity=granularity_widget)\n",
    "def interactive_plot(granularity):\n",
    "    plot_items_sold(df, granularity)"
   ]
  },
  {
   "attachments": {
    "newplot.png": {
     "image/png": "[encoded data removed]"
    }
   },
   "cell_type": "markdown",
   "id": "cc6d2ec6",
   "metadata": {},
   "source": [
    "![newplot.png](attachment:newplot.png)"
   ]
  },
  {
   "cell_type": "code",
   "execution_count": 18,
   "id": "d28cd173",
   "metadata": {},
   "outputs": [
    {
     "data": {
      "application/vnd.jupyter.widget-view+json": {
       "model_id": "e5d80d087d3b418b9903e308d73edcdd",
       "version_major": 2,
       "version_minor": 0
      },
      "text/plain": [
       "interactive(children=(Dropdown(description='Year:', index=2, options=('2014', '2015', 'All'), value='All'), Ou…"
      ]
     },
     "metadata": {},
     "output_type": "display_data"
    }
   ],
   "source": [
    "# Widget for selecting the year\n",
    "year_widget = widgets.Dropdown(\n",
    "    options=['2014', '2015', 'All'],\n",
    "    value='All',\n",
    "    description='Year:'\n",
    ")\n",
    "\n",
    "def plot_top_items(df, year):\n",
    "    # Filter data based on the selected year\n",
    "    if year == 'All':\n",
    "        df_filtered = df\n",
    "    else:\n",
    "        df_filtered = df[df['year'] == int(year)]\n",
    "\n",
    "    # Group by itemDescription and calculate the sum of sales\n",
    "    top_items = df_filtered.groupby('itemDescription').size().reset_index(name='Count')\n",
    "    \n",
    "    # Sort in descending order\n",
    "    top_items = top_items.sort_values(by='Count', ascending=False).head(10)\n",
    "\n",
    "    # Reverse the order of bars\n",
    "    top_items = top_items[::-1]\n",
    "\n",
    "    # Plot using Plotly for interactive horizontal bar chart\n",
    "    fig = px.bar(\n",
    "        top_items,\n",
    "        x='Count',\n",
    "        y='itemDescription',\n",
    "        orientation='h',\n",
    "        title=f'Top 10 Items Sold - {year}' if year != 'All' else 'Top 10 Items Sold - All Period'\n",
    "    )\n",
    "    fig.update_xaxes(title_text='Number of Items Sold')\n",
    "    fig.update_yaxes(title_text='Item Description')\n",
    "\n",
    "    # Display interactive plot\n",
    "    fig.show()\n",
    "\n",
    "# Interactive plot with widgets\n",
    "@interact(year=year_widget)\n",
    "def interactive_top_items(year):\n",
    "    plot_top_items(df, year)"
   ]
  },
  {
   "attachments": {
    "newplot%20%281%29.png": {
     "image/png": "[encoded data removed]"
    }
   },
   "cell_type": "markdown",
   "id": "9f873b24",
   "metadata": {},
   "source": [
    "![newplot%20%281%29.png](attachment:newplot%20%281%29.png)"
   ]
  },
  {
   "cell_type": "code",
   "execution_count": null,
   "id": "18569427",
   "metadata": {},
   "outputs": [],
   "source": []
  },
  {
   "cell_type": "code",
   "execution_count": null,
   "id": "2ddb9352",
   "metadata": {},
   "outputs": [],
   "source": []
  },
  {
   "cell_type": "code",
   "execution_count": null,
   "id": "256012bd",
   "metadata": {},
   "outputs": [],
   "source": []
  },
  {
   "cell_type": "code",
   "execution_count": null,
   "id": "276ef6dc",
   "metadata": {},
   "outputs": [],
   "source": []
  },
  {
   "cell_type": "code",
   "execution_count": null,
   "id": "c17323d9",
   "metadata": {},
   "outputs": [],
   "source": []
  },
  {
   "cell_type": "code",
   "execution_count": null,
   "id": "c4a57e36",
   "metadata": {},
   "outputs": [],
   "source": []
  },
  {
   "cell_type": "markdown",
   "id": "b75de066",
   "metadata": {},
   "source": [
    "## Continuous Assessment \n",
    "\n",
    "### 1.1 Discuss and explain the purpose of a recommendation system for online retail business in machine learning. \n",
    "\n",
    "According to (Wikipedia Contributors, 2019), online retail, also well known as eCommerce, allows customers to buy goods or services using web-based technology. Electronic Commerce permit businesses all over the world, the opportunity to collect customers' data. Technology makes possible to build customers’ profiles based on demographic data, purchase history, preferences, and active data such as likes, views, clicks, and time spent. \n",
    "\n",
    "AI has helped businesses to build powerful analytics tools to improve customer satisfaction and drive revenue.  Recommendation Systems enable businesses to learn about their customers, and so provide more meaningful content, increasing customer satisfaction, and drive business revenue. \n",
    "\n",
    "Industry leaders in online retail are using recommendation systems. Amazon’s recommendations are responsible for 35% of revenue, Netflix’s recommendations are responsible for 75% of the movies seen on the platform, and 60% of the videos watched on YouTube were recommended to their customers.\n",
    "\n",
    "Recommendation engines enable customers to find goods or services using different algorithms. They are: Contant-based filtering, based on item features and user profile data; Collaborative-based filtering, based on the similarity with other users (user-to-user or item-to-item); and Hybrid systems that combine Contant-based filtering, and Collaborative-based filtering.\n"
   ]
  },
  {
   "cell_type": "markdown",
   "id": "6abba312",
   "metadata": {},
   "source": [
    "### 1.2)\tBriefly compare Content and Collaborative filtering using any dataset of your choice. Train and test machine learning models for the user-user or item-item collaborative filtering. "
   ]
  },
  {
   "cell_type": "code",
   "execution_count": null,
   "id": "a92d9f8b",
   "metadata": {},
   "outputs": [],
   "source": []
  },
  {
   "cell_type": "markdown",
   "id": "ac241406",
   "metadata": {},
   "source": [
    "### 1.3)\tJustify your recommendations for the considered scenario by providing a conceptual insight. "
   ]
  },
  {
   "cell_type": "code",
   "execution_count": null,
   "id": "1312b3db",
   "metadata": {},
   "outputs": [],
   "source": []
  },
  {
   "cell_type": "markdown",
   "id": "fcdd3fba",
   "metadata": {},
   "source": [
    "### 2.1) Perform Market Basket Analysis on the chosen dataset by using Apriori and FP growth algorithms."
   ]
  },
  {
   "cell_type": "code",
   "execution_count": null,
   "id": "d8afb42b",
   "metadata": {},
   "outputs": [],
   "source": []
  },
  {
   "cell_type": "markdown",
   "id": "18604b55",
   "metadata": {},
   "source": [
    "### 2.2) Can you express the major divergence between these models? Compare and contrast the machine learning results obtained based on both algorithms. "
   ]
  },
  {
   "cell_type": "code",
   "execution_count": null,
   "id": "0cbfa99f",
   "metadata": {},
   "outputs": [],
   "source": []
  },
  {
   "cell_type": "markdown",
   "id": "65145d81",
   "metadata": {},
   "source": [
    "### 3.1) Create an interactive Dashboard aimed at older adults (65+) with specific features to summarise the most important aspects of the data and identify through your visualisation why this dataset is suitable for Machine Learning models in an online retail business. "
   ]
  },
  {
   "cell_type": "code",
   "execution_count": null,
   "id": "8e119066",
   "metadata": {},
   "outputs": [],
   "source": []
  },
  {
   "cell_type": "markdown",
   "id": "f2f4386f",
   "metadata": {},
   "source": [
    "### 3.2) Explain how your dashboard is designed with this demographic in mind."
   ]
  },
  {
   "cell_type": "markdown",
   "id": "b27a6cbb",
   "metadata": {},
   "source": []
  }
 ],
 "metadata": {
  "kernelspec": {
   "display_name": "Python 3 (ipykernel)",
   "language": "python",
   "name": "python3"
  },
  "language_info": {
   "codemirror_mode": {
    "name": "ipython",
    "version": 3
   },
   "file_extension": ".py",
   "mimetype": "text/x-python",
   "name": "python",
   "nbconvert_exporter": "python",
   "pygments_lexer": "ipython3",
   "version": "3.11.5"
  }
 },
 "nbformat": 4,
 "nbformat_minor": 5
}
